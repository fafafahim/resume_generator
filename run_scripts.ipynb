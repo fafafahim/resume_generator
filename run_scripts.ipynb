{
 "cells": [
  {
   "cell_type": "markdown",
   "metadata": {},
   "source": [
    "# Run frontend"
   ]
  },
  {
   "cell_type": "code",
   "execution_count": null,
   "metadata": {},
   "outputs": [
    {
     "name": "stdout",
     "output_type": "stream",
     "text": [
      " * Serving Flask app 'app'\n",
      " * Debug mode: on\n",
      "\u001b[31m\u001b[1mWARNING: This is a development server. Do not use it in a production deployment. Use a production WSGI server instead.\u001b[0m\n",
      " * Running on all addresses (0.0.0.0)\n",
      " * Running on http://127.0.0.1:5600\n",
      " * Running on http://10.100.10.156:5600\n",
      "\u001b[33mPress CTRL+C to quit\u001b[0m\n",
      " * Restarting with stat\n",
      " * Debugger is active!\n",
      " * Debugger PIN: 250-602-159\n",
      "127.0.0.1 - - [26/Mar/2025 13:16:22] \"GET / HTTP/1.1\" 200 -\n",
      "127.0.0.1 - - [26/Mar/2025 13:16:23] \"\u001b[33mGET /favicon.ico HTTP/1.1\u001b[0m\" 404 -\n",
      "Appended job info to /Users/coding/Desktop/localRepos/resume-generator/_submitted/_applied.json\n",
      "127.0.0.1 - - [26/Mar/2025 13:17:15] \"POST /submit HTTP/1.1\" 200 -\n",
      "127.0.0.1 - - [26/Mar/2025 13:17:17] \"GET / HTTP/1.1\" 200 -\n",
      "127.0.0.1 - - [26/Mar/2025 13:17:18] \"GET /view HTTP/1.1\" 200 -\n",
      "Running prompt job_desc_key_terms for record id: Associate Director, Digital Health Program Management\n",
      "/Users/coding/Desktop/localRepos/resume-generator/src/scripts/main.py:206: PydanticDeprecatedSince20: The `dict` method is deprecated; use `model_dump` instead. Deprecated in Pydantic V2.0 to be removed in V3.0. See Pydantic V2 Migration Guide at https://errors.pydantic.dev/2.10/migration/\n",
      "  usage = usage.dict()\n",
      "Running prompt compare_cv_resume_experience for record id: Associate Director, Digital Health Program Management\n",
      "Running prompt compare_experiences for record id: Associate Director, Digital Health Program Management\n",
      "Running prompt compare_education for record id: Associate Director, Digital Health Program Management\n",
      "Running prompt generate_resume_initial for record id: Associate Director, Digital Health Program Management\n",
      "Running prompt generate_resume for record id: Associate Director, Digital Health Program Management\n",
      "Running prompt generate_cover_letter_initial for record id: Associate Director, Digital Health Program Management\n",
      "Running prompt generate_cover_letter for record id: Associate Director, Digital Health Program Management\n",
      "127.0.0.1 - - [26/Mar/2025 13:22:31] \"POST /generate HTTP/1.1\" 200 -\n"
     ]
    }
   ],
   "source": [
    "!python3 /Users/coding/Desktop/localRepos/resume-generator/src/scripts/app.py"
   ]
  }
 ],
 "metadata": {
  "kernelspec": {
   "display_name": "rg_venv",
   "language": "python",
   "name": "python3"
  },
  "language_info": {
   "codemirror_mode": {
    "name": "ipython",
    "version": 3
   },
   "file_extension": ".py",
   "mimetype": "text/x-python",
   "name": "python",
   "nbconvert_exporter": "python",
   "pygments_lexer": "ipython3",
   "version": "3.9.12"
  }
 },
 "nbformat": 4,
 "nbformat_minor": 2
}
